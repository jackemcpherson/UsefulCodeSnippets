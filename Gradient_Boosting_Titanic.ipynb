{
  "nbformat": 4,
  "nbformat_minor": 0,
  "metadata": {
    "colab": {
      "name": "Gradient_Boosting_Titanic.ipynb",
      "version": "0.3.2",
      "provenance": [],
      "include_colab_link": true
    },
    "kernelspec": {
      "name": "python3",
      "display_name": "Python 3"
    }
  },
  "cells": [
    {
      "cell_type": "markdown",
      "metadata": {
        "id": "view-in-github",
        "colab_type": "text"
      },
      "source": [
        "<a href=\"https://colab.research.google.com/github/jackemcpherson/UsefulCodeSnippets/blob/master/Gradient_Boosting_Titanic.ipynb\" target=\"_parent\"><img src=\"https://colab.research.google.com/assets/colab-badge.svg\" alt=\"Open In Colab\"/></a>"
      ]
    },
    {
      "cell_type": "code",
      "metadata": {
        "id": "ekeJZtUTVJ_G",
        "colab_type": "code",
        "colab": {}
      },
      "source": [
        "#Import Utility Packages#\n",
        "import seaborn as sns\n",
        "import matplotlib.pyplot as plt\n",
        "import pandas as pd\n",
        "import numpy as np\n",
        "\n",
        "#Import ML Packages#\n",
        "from sklearn.model_selection import train_test_split\n",
        "from sklearn.ensemble import RandomForestClassifier, GradientBoostingClassifier\n",
        "from sklearn.metrics import roc_curve, confusion_matrix\n",
        "from sklearn.preprocessing import StandardScaler"
      ],
      "execution_count": 0,
      "outputs": []
    },
    {
      "cell_type": "code",
      "metadata": {
        "id": "LC2uoEvXVOWZ",
        "colab_type": "code",
        "colab": {}
      },
      "source": [
        "#Load Data#\n",
        "titanic = sns.load_dataset(\"titanic\")\n",
        "\n",
        "#Drop Redundant Cols#\n",
        "titanic = titanic.drop([\"who\",\"deck\",\"embark_town\",\"adult_male\",\"class\",\"survived\"],axis=1)\n",
        "\n",
        "#Convert Non-Numeric Cols to Binary#\n",
        "cat_cols = titanic[[\"alone\",\"sex\",\"embarked\"]]\n",
        "s = pd.get_dummies(cat_cols)\n",
        "titanic = titanic.drop([\"alone\",\"sex\",\"embarked\"],axis=1)\n",
        "titanic = pd.concat([titanic,s],axis=1)\n",
        "\n",
        "#Fill NA values in Age#\n",
        "titanic[\"age\"] = titanic[\"age\"].fillna(titanic[\"age\"].median())\n",
        "\n",
        "#Convert Target Values to Binary#\n",
        "titanic[\"alive\"] = titanic[\"alive\"].replace(\"yes\",1).replace(\"no\",0)"
      ],
      "execution_count": 0,
      "outputs": []
    },
    {
      "cell_type": "code",
      "metadata": {
        "id": "nTcTcwc_VtgK",
        "colab_type": "code",
        "colab": {}
      },
      "source": [
        "#Split X (Values) and Y (Targets)#\n",
        "X = titanic.drop(\"alive\",axis=1)\n",
        "y = titanic[\"alive\"].values"
      ],
      "execution_count": 0,
      "outputs": []
    },
    {
      "cell_type": "code",
      "metadata": {
        "id": "4tAmGwoZV0W6",
        "colab_type": "code",
        "colab": {}
      },
      "source": [
        "#Scale Numeric Data#\n",
        "X = StandardScaler().fit_transform(X)"
      ],
      "execution_count": 0,
      "outputs": []
    },
    {
      "cell_type": "code",
      "metadata": {
        "id": "RpM4PfgSV7Uq",
        "colab_type": "code",
        "colab": {}
      },
      "source": [
        "#Break Out Train/Test Split#\n",
        "X_train, X_test, Y_train, Y_test = train_test_split(X, y, test_size=0.2, random_state=11)"
      ],
      "execution_count": 0,
      "outputs": []
    },
    {
      "cell_type": "code",
      "metadata": {
        "id": "HWv4doeVWFe0",
        "colab_type": "code",
        "colab": {}
      },
      "source": [
        "#Fire up the Classifier#\n",
        "clf = GradientBoostingClassifier()"
      ],
      "execution_count": 0,
      "outputs": []
    },
    {
      "cell_type": "code",
      "metadata": {
        "id": "V27k15rNWAMS",
        "colab_type": "code",
        "colab": {
          "base_uri": "https://localhost:8080/",
          "height": 187
        },
        "outputId": "af7d4dcb-6a3f-4687-a6f5-a37625b68369"
      },
      "source": [
        "#Fit to Data#\n",
        "clf.fit(X_train, Y_train)"
      ],
      "execution_count": 7,
      "outputs": [
        {
          "output_type": "execute_result",
          "data": {
            "text/plain": [
              "GradientBoostingClassifier(criterion='friedman_mse', init=None,\n",
              "                           learning_rate=0.1, loss='deviance', max_depth=3,\n",
              "                           max_features=None, max_leaf_nodes=None,\n",
              "                           min_impurity_decrease=0.0, min_impurity_split=None,\n",
              "                           min_samples_leaf=1, min_samples_split=2,\n",
              "                           min_weight_fraction_leaf=0.0, n_estimators=100,\n",
              "                           n_iter_no_change=None, presort='auto',\n",
              "                           random_state=None, subsample=1.0, tol=0.0001,\n",
              "                           validation_fraction=0.1, verbose=0,\n",
              "                           warm_start=False)"
            ]
          },
          "metadata": {
            "tags": []
          },
          "execution_count": 7
        }
      ]
    },
    {
      "cell_type": "code",
      "metadata": {
        "id": "PPTt17AtWJ6D",
        "colab_type": "code",
        "colab": {
          "base_uri": "https://localhost:8080/",
          "height": 34
        },
        "outputId": "ca6f85c2-e884-473c-a903-f04da8c90f1f"
      },
      "source": [
        "#Test Model and print Accuracy#\n",
        "y_pred = clf.predict(X_test)\n",
        "clf.score(X_test, Y_test)"
      ],
      "execution_count": 8,
      "outputs": [
        {
          "output_type": "execute_result",
          "data": {
            "text/plain": [
              "0.8770949720670391"
            ]
          },
          "metadata": {
            "tags": []
          },
          "execution_count": 8
        }
      ]
    },
    {
      "cell_type": "code",
      "metadata": {
        "id": "hTJ281kBWRh8",
        "colab_type": "code",
        "colab": {
          "base_uri": "https://localhost:8080/",
          "height": 300
        },
        "outputId": "08a70446-d4b7-4e69-e4c5-b165e8577a44"
      },
      "source": [
        "#Get Feature Importances#\n",
        "sns.set_style(\"darkgrid\")\n",
        "feature_importances = pd.DataFrame(dict(zip(titanic.drop(\"alive\",axis=1).columns,clf.feature_importances_)),index=[0]).melt()\n",
        "sns.barplot(x=\"value\",y=\"variable\",data=feature_importances.sort_values(\"value\",ascending=False),palette=\"PuRd_d\")"
      ],
      "execution_count": 12,
      "outputs": [
        {
          "output_type": "execute_result",
          "data": {
            "text/plain": [
              "<matplotlib.axes._subplots.AxesSubplot at 0x7f05652f4860>"
            ]
          },
          "metadata": {
            "tags": []
          },
          "execution_count": 12
        },
        {
          "output_type": "display_data",
          "data": {
            "image/png": "[encoded data removed]",
            "text/plain": [
              "<Figure size 432x288 with 1 Axes>"
            ]
          },
          "metadata": {
            "tags": []
          }
        }
      ]
    },
    {
      "cell_type": "code",
      "metadata": {
        "id": "QEuz8gd2WX6t",
        "colab_type": "code",
        "colab": {
          "base_uri": "https://localhost:8080/",
          "height": 283
        },
        "outputId": "332ea7ae-1e3a-469c-e14c-b9ad27559fb2"
      },
      "source": [
        "#Show ROC Curve#\n",
        "fpr, tpr, thresholds = roc_curve(Y_test, y_pred)\n",
        "sns.set_style(\"darkgrid\")\n",
        "plt.plot(fpr,tpr)\n",
        "plt.plot([0,1],\"k--\")\n",
        "plt.xlabel(\"False Positive Rate\")\n",
        "plt.ylabel(\"True Positive Rate\")\n",
        "plt.show()"
      ],
      "execution_count": 11,
      "outputs": [
        {
          "output_type": "display_data",
          "data": {
            "image/png": "[encoded data removed]",
            "text/plain": [
              "<Figure size 432x288 with 1 Axes>"
            ]
          },
          "metadata": {
            "tags": []
          }
        }
      ]
    }
  ]
}